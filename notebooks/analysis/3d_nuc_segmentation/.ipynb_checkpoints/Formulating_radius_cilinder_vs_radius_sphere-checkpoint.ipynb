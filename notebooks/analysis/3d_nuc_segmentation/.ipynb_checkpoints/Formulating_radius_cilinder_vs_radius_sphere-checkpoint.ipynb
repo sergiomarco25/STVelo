{
 "cells": [
  {
   "cell_type": "markdown",
   "id": "a2f99e35",
   "metadata": {},
   "source": [
    "# Aim of the notebook"
   ]
  },
  {
   "cell_type": "markdown",
   "id": "2a326008",
   "metadata": {},
   "source": [
    "### Simulate the effect of 2D segmentation VS 3D segmentation"
   ]
  },
  {
   "cell_type": "markdown",
   "id": "e7350dd5",
   "metadata": {},
   "source": [
    "First we import the packages"
   ]
  },
  {
   "cell_type": "code",
   "execution_count": 104,
   "id": "f32d0cce",
   "metadata": {},
   "outputs": [],
   "source": [
    "import numpy as np\n",
    "from tqdm import tqdm\n",
    "import pandas as pd\n",
    "import matplotlib.pyplot as plt\n",
    "import seaborn as sns"
   ]
  },
  {
   "cell_type": "code",
   "execution_count": 168,
   "id": "aef9d893",
   "metadata": {},
   "outputs": [],
   "source": [
    "# We have created a function to simulate the effect of performing 2D segmentation on 3D bodies. "
   ]
  },
  {
   "cell_type": "markdown",
   "id": "95b8823c",
   "metadata": {},
   "source": [
    "This formula predicts the proportion of misassigned cytoplasm in terms of the volumes of the cylinder and sphere, and the random proportions for cutting and clear cytoplasm.\n",
    "\n",
    "---\n",
    "\n",
    "### Proportion of Cytoplasm Misassigned (`cyto_missassigned_fraction`)\n",
    "\n",
    "Let:\n",
    "\n",
    "- $N_{\\text{cyto}}$: Number of points in the cylindrical cytoplasm.\n",
    "- $N_{\\text{sphere}}$: Number of points inside the spherical nucleus.\n",
    "- $p_{\\text{cut}}$: Proportion of the cylinder remaining after a slice along the \\( z \\)-axis.\n",
    "- $p_{\\text{clear}}$: Random proportion of clear cytoplasm.\n",
    "\n",
    "The **cyto_missassigned_fraction** is the fraction of cytoplasm points that are misassigned (i.e., not overlapping with the spherical nucleus) after the random cut:\n",
    "\n",
    "$$\n",
    "\\text{cyto_missassigned_fraction} = \\frac{N_{\\text{cyto}} - N_{\\text{sphere}}}{N_{\\text{cyto}} + p_{\\text{clear}} \\cdot N_{\\text{cyto}}}\n",
    "$$\n",
    "\n",
    "Where $N_{\\text{cyto}} - N_{\\text{sphere}}$ represents the cytoplasm points that lie outside the nucleus, and $N_{\\text{cyto}} + p_{\\text{clear}} \\cdot N_{\\text{cyto}}$ accounts for both cytoplasm and clear cytoplasm after the cut.\n",
    "\n",
    "Now, using volumes:\n",
    "\n",
    "\n",
    "$$N_{\\text{cyto}} = p_{\\text{cut}} \\cdot V_{\\text{cylinder}}, \\quad N_{\\text{sphere}} = p_{\\text{cut}} \\cdot V_{\\text{sphere}}$$\n",
    "\n",
    "The volumes are given by:\n",
    "\n",
    "\n",
    "$$V_{\\text{cylinder}} = \\pi r_{\\text{cylinder}}^2 h_{\\text{cylinder}}, \\quad V_{\\text{sphere}} = \\frac{4}{3} \\pi r_{\\text{sphere}}^3$$\n",
    "\n",
    "So, the **full formula** becomes:\n",
    "\n",
    "\n",
    "$$\\text{cyto_missassigned_fraction} = \\frac{p_{\\text{cut}} \\cdot V_{\\text{cylinder}} - p_{\\text{cut}} \\cdot V_{\\text{sphere}}}{p_{\\text{cut}} \\cdot V_{\\text{cylinder}} + p_{\\text{clear}} \\cdot (p_{\\text{cut}} \\cdot V_{\\text{cylinder}})}\n",
    "$$\n",
    "\n"
   ]
  },
  {
   "cell_type": "markdown",
   "id": "ac4116d1",
   "metadata": {},
   "source": [
    "Here is the implementation of the formula:"
   ]
  },
  {
   "cell_type": "code",
   "execution_count": 196,
   "id": "e15cb9ed",
   "metadata": {},
   "outputs": [],
   "source": [
    "def simulate_2d_segmentation_artifacts(r_sphere=3, r_cylinder=3, h_cylinder=6, simulations: int=10000, \n",
    "                                       n_points=100000, cutmin=10, cutmax=20,mean_cytoplasmic=0.3):\n",
    "    \"\"\"\n",
    "    Simulate potential 2D segmentation artifacts by modeling the interaction between a sphere (nucleus)\n",
    "    and a cylinder (cell) under random cuts or slices along the z-axis, and estimate misassigned points.\n",
    "\n",
    "    Parameters:\n",
    "    ----------\n",
    "    r_sphere : float, optional\n",
    "        Radius of the spherical nucleus (default is 3).\n",
    "    r_cylinder : float, optional\n",
    "        Radius of the cylindrical cell (default is 3).\n",
    "    h_cylinder : float, optional\n",
    "        Height of the cylindrical cell (default is 6).\n",
    "    simulations : int, optional\n",
    "        Number of Monte Carlo simulations to perform (default is 10,000).\n",
    "    n_points : int, optional\n",
    "        Number of random points to simulate per run (default is 100,000).\n",
    "    cutmin : float, optional\n",
    "        Minimum value for the random cutting plane along the z-axis (default is 10).\n",
    "    cutmax : float, optional\n",
    "        Maximum value for the random cutting plane along the z-axis (default is 20).\n",
    "\n",
    "    Returns:\n",
    "    --------\n",
    "    allsim : pandas.DataFrame\n",
    "        A DataFrame containing the results of the simulations with columns:\n",
    "        - 'cyto_missassigned_fraction': Fraction of cytoplasm points misassigned.\n",
    "        - 'nuclei_missassigned_fraction': Fraction of nuclei points misassigned.\n",
    "        - 'clear_cytoplasm_proportion': Random proportion of cytoplasm that's clear.\n",
    "        - 'proportion_of_nuclei_included': Proportion of nuclei included in the cut.\n",
    "\n",
    "    Notes:\n",
    "    ------\n",
    "    - This function uses a Monte Carlo approach, randomly generating points inside a cylinder and then \n",
    "      checking how many points fall inside both the cylinder and the sphere.\n",
    "    - The function simulates cuts along the z-axis by generating random cutting planes between `cutmin`\n",
    "      and `cutmax`.\n",
    "    - The misassigned fractions are calculated by estimating how many points from the sphere and \n",
    "      the cylinder fall within certain regions.\n",
    "    \"\"\"\n",
    "\n",
    "    # Lists to store results for each simulation\n",
    "    all_fracts = []\n",
    "    all_nucleifract = []\n",
    "    all_cytoprop = []\n",
    "    all_nuclei_included_prop = []\n",
    "\n",
    "    # Perform Monte Carlo simulations\n",
    "    for r in tqdm(range(simulations)):\n",
    "        # Randomly determine the proportion of clear cytoplasm using random normal distribution\n",
    "        clear_cytoplasm_proportion = np.random.normal(mean_cytoplasmic, 0.05, 1000)\n",
    "        \n",
    "        # Generate random points inside the cylinder\n",
    "        z_points = np.random.uniform(-h_cylinder / 2, h_cylinder / 2, n_points)\n",
    "        x_points = np.random.uniform(-r_cylinder, r_cylinder, n_points)\n",
    "        y_points = np.random.uniform(-r_cylinder, r_cylinder, n_points)\n",
    "\n",
    "        # Randomly determine the cutting plane position\n",
    "        cutting = np.random.uniform(cutmin, cutmax, 1)\n",
    "\n",
    "        # Calculate the proportion of nuclei included in the cut\n",
    "        included_prop = np.sum(z_points < cutting[0]) / len(z_points)\n",
    "        \n",
    "        # Filter points below the cutting plane\n",
    "        y_points = y_points[z_points < cutting[0]]\n",
    "        x_points = x_points[z_points < cutting[0]]\n",
    "        z_points = z_points[z_points < cutting[0]]\n",
    "\n",
    "        # Equation of the cylinder (x^2 + y^2 <= r_cylinder^2)\n",
    "        inside_cylinder = x_points**2 + y_points**2 <= r_cylinder**2\n",
    "\n",
    "        # Equation of the sphere (x^2 + y^2 + z^2 <= r_sphere^2)\n",
    "        inside_sphere = x_points**2 + y_points**2 + z_points**2 <= r_sphere**2\n",
    "\n",
    "        # Intersection between the cylinder and the sphere\n",
    "        intersection = inside_cylinder & inside_sphere\n",
    "        other_cytoplasm_points = len(z_points) * clear_cytoplasm_proportion\n",
    "\n",
    "        # Calculate the fraction of points that are not in the intersection (exclusive to one region)\n",
    "        fraction_exclusive = ((n_points - np.sum(intersection)) / n_points)\n",
    "\n",
    "        # Calculate the fraction of misassigned points relative to cytoplasm\n",
    "        fraction_missassigned = ((n_points - np.sum(intersection)) / ((n_points - np.sum(intersection)) + other_cytoplasm_points))\n",
    "\n",
    "        # Append results for this simulation\n",
    "        all_fracts.append(fraction_missassigned[0])\n",
    "        all_nucleifract.append(fraction_exclusive)\n",
    "        all_cytoprop.append(clear_cytoplasm_proportion[0])\n",
    "        all_nuclei_included_prop.append(included_prop)\n",
    "\n",
    "    # Compile results into a pandas DataFrame\n",
    "    allsim = pd.DataFrame({\n",
    "        'cyto_missassigned_fraction': all_fracts,\n",
    "        'nuclei_missassigned_fraction': all_nucleifract,\n",
    "        'clear_cytoplasm_proportion': all_cytoprop,\n",
    "        'proportion_of_nuclei_included': all_nuclei_included_prop\n",
    "    })\n",
    "\n",
    "    return allsim\n"
   ]
  },
  {
   "cell_type": "markdown",
   "id": "201c2a2c",
   "metadata": {},
   "source": [
    "## Simulating the effect of different parameters in the output"
   ]
  },
  {
   "cell_type": "code",
   "execution_count": 197,
   "id": "8330057c",
   "metadata": {},
   "outputs": [],
   "source": [
    "# To adjust realistically we need:\n",
    "# Real nuclei size\n",
    "# Real z-slice size\n",
    "# Real proportion of nuclear/ cytoplasmatic transcripts (and if if it cell dependent)"
   ]
  },
  {
   "cell_type": "markdown",
   "id": "50f47069",
   "metadata": {},
   "source": [
    "## 1. Basic simulation using realistic setup"
   ]
  },
  {
   "cell_type": "markdown",
   "id": "f4816cd5",
   "metadata": {},
   "source": [
    "- We assume slides are 20um thick\n",
    "- We assume cell radius is arround 15um\n",
    "- We assume cytoplasmic counts are in the range of 20-50%\n",
    "- We assume cells can be cut while sectioning, capturing only part of the cell\n",
    "- We assume uniform "
   ]
  },
  {
   "cell_type": "code",
   "execution_count": 198,
   "id": "b1c10e09",
   "metadata": {},
   "outputs": [
    {
     "name": "stderr",
     "output_type": "stream",
     "text": [
      "100%|███████████████████████████████████████████████████████████████████████████| 10000/10000 [00:06<00:00, 1612.61it/s]\n"
     ]
    }
   ],
   "source": [
    "allsim1=simulate_2d_segmentation_artifacts(r_sphere = 15,r_cylinder = 15,h_cylinder = 20,n_points = 10000,\n",
    "                                          simulations=10000,cutmin=0,cutmax=40,mean_cytoplasmic=0.3)\n"
   ]
  },
  {
   "cell_type": "markdown",
   "id": "3c3ce476",
   "metadata": {},
   "source": [
    "We find most of the cells follow a normal distribution, following the normal distribution computed from the cytoplasm proportion. We also find a tail that we will explore in the analysis below  "
   ]
  },
  {
   "cell_type": "code",
   "execution_count": 215,
   "id": "7aef1a7d",
   "metadata": {},
   "outputs": [
    {
     "data": {
      "text/plain": [
       "<seaborn.axisgrid.FacetGrid at 0x7f41a37e7a30>"
      ]
     },
     "execution_count": 215,
     "metadata": {},
     "output_type": "execute_result"
    },
    {
     "data": {
      "image/png": "[encoded data removed]",
      "text/plain": [
       "<Figure size 360x360 with 1 Axes>"
      ]
     },
     "metadata": {
      "needs_background": "light"
     },
     "output_type": "display_data"
    }
   ],
   "source": [
    "sns.displot(data=allsim1,x='cyto_missassigned_fraction',binwidth=0.01,color='black')"
   ]
  },
  {
   "cell_type": "markdown",
   "id": "4c072bef",
   "metadata": {},
   "source": [
    "### We can divide it in entire cells, and divided cells"
   ]
  },
  {
   "cell_type": "code",
   "execution_count": 223,
   "id": "6fe1f60b",
   "metadata": {},
   "outputs": [
    {
     "data": {
      "text/plain": [
       "<seaborn.axisgrid.FacetGrid at 0x7f41a3a92fd0>"
      ]
     },
     "execution_count": 223,
     "metadata": {},
     "output_type": "execute_result"
    },
    {
     "data": {
      "image/png": "[encoded data removed]",
      "text/plain": [
       "<Figure size 421.25x360 with 1 Axes>"
      ]
     },
     "metadata": {
      "needs_background": "light"
     },
     "output_type": "display_data"
    }
   ],
   "source": [
    "allsim1['whole_cell']=allsim1['proportion_of_nuclei_included']==1\n",
    "sns.displot(data=allsim1,x='cyto_missassigned_fraction',binwidth=0.01,hue='whole_cell')"
   ]
  },
  {
   "cell_type": "markdown",
   "id": "22cde685",
   "metadata": {},
   "source": [
    "We use a displot to see the effect of cut cells in the predictions. We see that if cells cut (low proportion of nuclei included), 2D missidentification of nunclei results in a higher proportion of reads missassigned to nuclei"
   ]
  },
  {
   "cell_type": "code",
   "execution_count": 214,
   "id": "226891f3",
   "metadata": {},
   "outputs": [
    {
     "data": {
      "text/plain": [
       "<seaborn.axisgrid.FacetGrid at 0x7f41a38884c0>"
      ]
     },
     "execution_count": 214,
     "metadata": {},
     "output_type": "execute_result"
    },
    {
     "data": {
      "image/png": "[encoded data removed]",
      "text/plain": [
       "<Figure size 360x360 with 1 Axes>"
      ]
     },
     "metadata": {
      "needs_background": "light"
     },
     "output_type": "display_data"
    }
   ],
   "source": [
    "sns.displot(data=allsim1,x='cyto_missassigned_fraction',y='proportion_of_nuclei_included',binwidth=0.01,cmap='gnuplot')"
   ]
  },
  {
   "cell_type": "markdown",
   "id": "a07813d7",
   "metadata": {},
   "source": [
    "# Simulate larger vs smaller cells"
   ]
  },
  {
   "cell_type": "code",
   "execution_count": 225,
   "id": "4d73380d",
   "metadata": {},
   "outputs": [
    {
     "name": "stderr",
     "output_type": "stream",
     "text": [
      "100%|███████████████████████████████████████████████████████████████████████████| 10000/10000 [00:06<00:00, 1618.78it/s]\n",
      "100%|███████████████████████████████████████████████████████████████████████████| 10000/10000 [00:06<00:00, 1621.52it/s]\n"
     ]
    }
   ],
   "source": [
    "allsim1=simulate_2d_segmentation_artifacts(r_sphere = 10,r_cylinder = 10,h_cylinder = 20,n_points = 10000,\n",
    "                                          simulations=10000,cutmin=0,cutmax=40,mean_cytoplasmic=0.3)\n",
    "allsim2=simulate_2d_segmentation_artifacts(r_sphere = 20,r_cylinder = 20,h_cylinder = 20,n_points = 10000,\n",
    "                                          simulations=10000,cutmin=0,cutmax=40,mean_cytoplasmic=0.3)\n",
    "allsim1['condition']='cells10um'\n",
    "allsim2['condition']='cells20um'\n",
    "allsim=pd.concat([allsim1,allsim2])"
   ]
  },
  {
   "cell_type": "markdown",
   "id": "cb78d605",
   "metadata": {},
   "source": [
    "From the results, we can conclude that, with smaller cells, since they occupy a smaller part of the cilinder, the missegmentation effect is larger"
   ]
  },
  {
   "cell_type": "code",
   "execution_count": 229,
   "id": "76cce18a",
   "metadata": {},
   "outputs": [
    {
     "data": {
      "text/plain": [
       "<seaborn.axisgrid.FacetGrid at 0x7f41a0c8f6a0>"
      ]
     },
     "execution_count": 229,
     "metadata": {},
     "output_type": "execute_result"
    },
    {
     "data": {
      "image/png": "[encoded data removed]",
      "text/plain": [
       "<Figure size 447.25x360 with 1 Axes>"
      ]
     },
     "metadata": {
      "needs_background": "light"
     },
     "output_type": "display_data"
    }
   ],
   "source": [
    "sns.displot(data=allsim,x='cyto_missassigned_fraction',binwidth=0.01,hue='condition')"
   ]
  },
  {
   "cell_type": "markdown",
   "id": "fee38dde",
   "metadata": {},
   "source": [
    "# Simulate large cytoplasm vs reduced cytoplasm"
   ]
  },
  {
   "cell_type": "code",
   "execution_count": 230,
   "id": "a8dc91ae",
   "metadata": {},
   "outputs": [
    {
     "name": "stderr",
     "output_type": "stream",
     "text": [
      "100%|███████████████████████████████████████████████████████████████████████████| 10000/10000 [00:06<00:00, 1602.85it/s]\n",
      "100%|███████████████████████████████████████████████████████████████████████████| 10000/10000 [00:06<00:00, 1610.36it/s]\n"
     ]
    }
   ],
   "source": [
    "allsim1=simulate_2d_segmentation_artifacts(r_sphere = 10,r_cylinder = 10,h_cylinder = 20,n_points = 10000,\n",
    "                                          simulations=10000,cutmin=0,cutmax=40,mean_cytoplasmic=0.7)\n",
    "allsim2=simulate_2d_segmentation_artifacts(r_sphere = 10,r_cylinder = 10,h_cylinder = 20,n_points = 10000,\n",
    "                                          simulations=10000,cutmin=0,cutmax=40,mean_cytoplasmic=0.3)\n",
    "allsim1['condition']='cytoplasm0.7'\n",
    "allsim2['condition']='cytoplasm0.3'\n",
    "allsim=pd.concat([allsim1,allsim2])"
   ]
  },
  {
   "cell_type": "markdown",
   "id": "c12d7141",
   "metadata": {},
   "source": [
    "As expected, the larger the cytoplasm proportion is, the smaller the effect of nuclei missegmentation will be on the cytoplasmic counts"
   ]
  },
  {
   "cell_type": "code",
   "execution_count": 231,
   "id": "63bfffa0",
   "metadata": {},
   "outputs": [
    {
     "data": {
      "text/plain": [
       "<seaborn.axisgrid.FacetGrid at 0x7f41a0df01c0>"
      ]
     },
     "execution_count": 231,
     "metadata": {},
     "output_type": "execute_result"
    },
    {
     "data": {
      "image/png": "[encoded data removed]",
      "text/plain": [
       "<Figure size 463.25x360 with 1 Axes>"
      ]
     },
     "metadata": {
      "needs_background": "light"
     },
     "output_type": "display_data"
    }
   ],
   "source": [
    "sns.displot(data=allsim,x='cyto_missassigned_fraction',binwidth=0.01,hue='condition')"
   ]
  },
  {
   "cell_type": "markdown",
   "id": "af3ebce6",
   "metadata": {},
   "source": [
    "Important caveats:\n",
    "All this so far assumes that **cell size is the same/ comparable between cell types**, and follows a normal distribution, which is not true"
   ]
  },
  {
   "cell_type": "code",
   "execution_count": null,
   "id": "b24674c4",
   "metadata": {},
   "outputs": [],
   "source": []
  }
 ],
 "metadata": {
  "kernelspec": {
   "display_name": "ISS_postprocessing",
   "language": "python",
   "name": "iss_postprocessing"
  },
  "language_info": {
   "codemirror_mode": {
    "name": "ipython",
    "version": 3
   },
   "file_extension": ".py",
   "mimetype": "text/x-python",
   "name": "python",
   "nbconvert_exporter": "python",
   "pygments_lexer": "ipython3",
   "version": "3.8.13"
  }
 },
 "nbformat": 4,
 "nbformat_minor": 5
}
