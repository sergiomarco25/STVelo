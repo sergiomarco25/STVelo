{
 "cells": [
  {
   "cell_type": "code",
   "execution_count": 4,
   "metadata": {},
   "outputs": [],
   "source": [
    "import os\n",
    "from pathlib import Path\n",
    "import sys\n",
    "import numpy as np\n",
    "import scvelo as scv"
   ]
  },
  {
   "cell_type": "code",
   "execution_count": 5,
   "metadata": {},
   "outputs": [
    {
     "data": {
      "text/plain": [
       "'c:\\\\Users\\\\OmerCagatayTalikaci\\\\Desktop\\\\github\\\\STVelo\\\\notebooks\\\\analysis\\\\nuc_cyto_vs_spl_uns'"
      ]
     },
     "execution_count": 5,
     "metadata": {},
     "output_type": "execute_result"
    }
   ],
   "source": [
    "notebook_dir = os.getcwd()\n",
    "notebook_dir"
   ]
  },
  {
   "cell_type": "code",
   "execution_count": 6,
   "metadata": {},
   "outputs": [
    {
     "data": {
      "text/plain": [
       "WindowsPath('c:/Users/OmerCagatayTalikaci/Desktop/github')"
      ]
     },
     "execution_count": 6,
     "metadata": {},
     "output_type": "execute_result"
    }
   ],
   "source": [
    "Path(notebook_dir).parents[3]"
   ]
  },
  {
   "cell_type": "code",
   "execution_count": 7,
   "metadata": {},
   "outputs": [],
   "source": [
    "os.chdir(Path(notebook_dir).parents[3])"
   ]
  },
  {
   "cell_type": "code",
   "execution_count": 8,
   "metadata": {},
   "outputs": [],
   "source": [
    "stvelo_path = os.path.join(os.getcwd(),'STVelo','stvelo')"
   ]
  },
  {
   "cell_type": "code",
   "execution_count": 9,
   "metadata": {},
   "outputs": [],
   "source": [
    "import sys  \n",
    "sys.path.insert(1,stvelo_path)\n",
    "from pipelines.simulation_3ode_class import Simulation3ODE\n",
    "from pipelines.metrics import *\n",
    "from pipelines.preprocessing import Preprocessing\n",
    "from pipelines.compute_velocity import Velocities"
   ]
  },
  {
   "cell_type": "code",
   "execution_count": 10,
   "metadata": {},
   "outputs": [],
   "source": [
    "# Order of correlations: [rho_alpha_beta, rho_alpha_nu, rho_alpha_gamma, rho_beta_nu, rho_beta_gamma, rho_nu_gamma]\n",
    "# Order of sigmas : [sigma_log_alpha, sigma_log_beta, sigma_log_nu, sigma_log_gamma]\n",
    "# Order of means : [alpha,beta,nu,gamma]\n",
    "\n",
    "config_simulation = {'parameters':{ 'n_obs':800,\n",
    "    'n_vars':300,\n",
    "    'alpha':None,\n",
    "    'beta':None,\n",
    "    'nu' :None,\n",
    "    'gamma':None,\n",
    "    'alpha_':0,\n",
    "    't_max':20,\n",
    "    'noise_model':\"normal\",\n",
    "    'noise_level':2,\n",
    "    }, \n",
    "\n",
    "    'options': {'generate_parameters':True,\n",
    "                'generate_switch_times':True,\n",
    "                  'save':False,\n",
    "                  'saving_path':None\n",
    "                  },\n",
    "    'coeff_generate_options':{ \n",
    "    'corr':[0.3, 0.2, -0.4, 0.3, -0.1, -0.2],\n",
    "    'sd':[0.6, 0.6, 0.6, 0.6],\n",
    "    'mean':[5, 1.8, 0.6, 0.3]} }\n",
    "\n",
    "\n",
    "config_preprocessing = {'preprocess_params': {\n",
    "     'min_counts': 200, \n",
    "     'min_cells': 5,\n",
    "     'n_neighbors': 23,\n",
    "     'n_pcs': 0,\n",
    "     'min_dist': 1},\n",
    "'functions_to_apply': {'filter_cells': True, \n",
    "                       'filter_genes': True, \n",
    "                       'normalize_total': True,\n",
    "                       'log1p': True,\n",
    "                       'pca': True,\n",
    "                       'neighbors': True,\n",
    "                       'umap': True,\n",
    "                       'leiden': True,\n",
    "                       'moments': True}}\n",
    "\n",
    "\n",
    "# config_velocity = { 'velocity_types': ['dynamical','deterministic','stochastic','velovi']}\n",
    "config_velocity = { 'velocity_types': ['deterministic']}\n",
    "\n",
    "\n",
    "\n",
    "config_plotting = {\n",
    "    'colorsets': ['leiden', 'clusters'],\n",
    "    'velocity_embedding_stream': True,\n",
    "    'velocity_embedding_grid': True,\n",
    "    'velocity_embedding': True,\n",
    "    'rank_velocity_genes': True,\n",
    "    'velocity_confidence': True,\n",
    "    'velocity_length': True\n",
    "}\n",
    "\n"
   ]
  },
  {
   "cell_type": "markdown",
   "metadata": {},
   "source": [
    "# Simulation "
   ]
  },
  {
   "cell_type": "code",
   "execution_count": 11,
   "metadata": {},
   "outputs": [
    {
     "name": "stdout",
     "output_type": "stream",
     "text": [
      "parameters generated with the covariance matrix: [[ 0.36   0.108  0.072 -0.144]\n",
      " [ 0.108  0.36   0.108 -0.036]\n",
      " [ 0.072  0.108  0.36  -0.072]\n",
      " [-0.144 -0.036 -0.072  0.36 ]]\n"
     ]
    }
   ],
   "source": [
    "simulator = Simulation3ODE(config= config_simulation) "
   ]
  },
  {
   "cell_type": "code",
   "execution_count": 12,
   "metadata": {},
   "outputs": [],
   "source": [
    "adata_dict = simulator.simulate_multi_obs_var(n_obs_list=[800,1000], n_vars_list=[300])"
   ]
  },
  {
   "cell_type": "code",
   "execution_count": 25,
   "metadata": {},
   "outputs": [],
   "source": [
    "adata_dict = simulator.simulation()"
   ]
  },
  {
   "cell_type": "markdown",
   "metadata": {},
   "source": [
    "# Preprocessing "
   ]
  },
  {
   "cell_type": "code",
   "execution_count": 13,
   "metadata": {},
   "outputs": [
    {
     "name": "stdout",
     "output_type": "stream",
     "text": [
      "adata_s_u_800obs_300genes is being preprocessed.\n",
      "computing moments based on connectivities\n",
      "    finished (0:00:00) --> added \n",
      "    'Ms' and 'Mu', moments of un/spliced abundances (adata.layers)\n",
      "adata_n_c_800obs_300genes is being preprocessed.\n",
      "computing moments based on connectivities\n",
      "    finished (0:00:00) --> added \n",
      "    'Ms' and 'Mu', moments of un/spliced abundances (adata.layers)\n",
      "adata_s_u_1000obs_300genes is being preprocessed.\n",
      "computing moments based on connectivities\n",
      "    finished (0:00:00) --> added \n",
      "    'Ms' and 'Mu', moments of un/spliced abundances (adata.layers)\n",
      "adata_n_c_1000obs_300genes is being preprocessed.\n",
      "computing moments based on connectivities\n",
      "    finished (0:00:00) --> added \n",
      "    'Ms' and 'Mu', moments of un/spliced abundances (adata.layers)\n"
     ]
    }
   ],
   "source": [
    "for key, adata in adata_dict.items():\n",
    "    print(f'{key} is being preprocessed.')\n",
    "    preprocessor = Preprocessing(adata,config_preprocessing)\n",
    "    adata = preprocessor.preprocess_data()"
   ]
  },
  {
   "cell_type": "markdown",
   "metadata": {},
   "source": [
    "# Velocity "
   ]
  },
  {
   "cell_type": "code",
   "execution_count": 14,
   "metadata": {},
   "outputs": [
    {
     "name": "stdout",
     "output_type": "stream",
     "text": [
      "Using device: cuda\n"
     ]
    }
   ],
   "source": [
    "velocity_computer = Velocities(adata_dict,config_velocity)"
   ]
  },
  {
   "cell_type": "code",
   "execution_count": 15,
   "metadata": {},
   "outputs": [
    {
     "name": "stdout",
     "output_type": "stream",
     "text": [
      "computing velocities\n",
      "    finished (0:00:00) --> added \n",
      "    'velocity', velocity vectors for each individual cell (adata.layers)\n",
      "computing velocity graph (using 1/24 cores)\n",
      "WARNING: Unable to create progress bar. Consider installing `tqdm` as `pip install tqdm` and `ipywidgets` as `pip install ipywidgets`,\n",
      "or disable the progress bar using `show_progress_bar=False`.\n",
      "    finished (0:00:00) --> added \n",
      "    'velocity_graph', sparse matrix with cosine correlations (adata.uns)\n",
      "computing velocities\n",
      "    finished (0:00:00) --> added \n",
      "    'velocity', velocity vectors for each individual cell (adata.layers)\n",
      "computing velocity graph (using 1/24 cores)\n",
      "    finished (0:00:00) --> added \n",
      "    'velocity_graph', sparse matrix with cosine correlations (adata.uns)\n",
      "computing velocities\n",
      "    finished (0:00:00) --> added \n",
      "    'velocity', velocity vectors for each individual cell (adata.layers)\n",
      "computing velocity graph (using 1/24 cores)\n",
      "    finished (0:00:00) --> added \n",
      "    'velocity_graph', sparse matrix with cosine correlations (adata.uns)\n",
      "computing velocities\n",
      "    finished (0:00:00) --> added \n",
      "    'velocity', velocity vectors for each individual cell (adata.layers)\n",
      "computing velocity graph (using 1/24 cores)\n",
      "    finished (0:00:00) --> added \n",
      "    'velocity_graph', sparse matrix with cosine correlations (adata.uns)\n"
     ]
    }
   ],
   "source": [
    "adata_dict_velocity = velocity_computer.compute_velocities()"
   ]
  },
  {
   "cell_type": "markdown",
   "metadata": {},
   "source": [
    "# Save adatas "
   ]
  },
  {
   "cell_type": "code",
   "execution_count": 15,
   "metadata": {},
   "outputs": [
    {
     "data": {
      "text/plain": [
       "'c:\\\\Users\\\\OmerCagatayTalikaci\\\\Desktop\\\\github'"
      ]
     },
     "execution_count": 15,
     "metadata": {},
     "output_type": "execute_result"
    }
   ],
   "source": [
    "os.getcwd()"
   ]
  },
  {
   "cell_type": "code",
   "execution_count": 16,
   "metadata": {},
   "outputs": [],
   "source": [
    "saving_path = os.path.join(os.getcwd(),'data','simulated')"
   ]
  },
  {
   "cell_type": "code",
   "execution_count": 17,
   "metadata": {},
   "outputs": [
    {
     "name": "stdout",
     "output_type": "stream",
     "text": [
      "adata_s_u_800obs_300genes_deterministic\n",
      "adata_n_c_800obs_300genes_deterministic\n",
      "adata_s_u_1000obs_300genes_deterministic\n",
      "adata_n_c_1000obs_300genes_deterministic\n"
     ]
    }
   ],
   "source": [
    "for d in adata_dict_velocity.keys():\n",
    "    print(d)\n",
    "    adata_dict_velocity[d].write(os.path.join(saving_path,d+'.h5ad'))"
   ]
  }
 ],
 "metadata": {
  "kernelspec": {
   "display_name": "scvi-env",
   "language": "python",
   "name": "python3"
  },
  "language_info": {
   "codemirror_mode": {
    "name": "ipython",
    "version": 3
   },
   "file_extension": ".py",
   "mimetype": "text/x-python",
   "name": "python",
   "nbconvert_exporter": "python",
   "pygments_lexer": "ipython3",
   "version": "3.9.19"
  }
 },
 "nbformat": 4,
 "nbformat_minor": 2
}
