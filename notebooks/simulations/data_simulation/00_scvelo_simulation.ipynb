{
 "cells": [
  {
   "cell_type": "code",
   "execution_count": 1,
   "metadata": {},
   "outputs": [],
   "source": [
    "import scvelo as scv\n",
    "import os \n",
    "from pathlib import Path\n",
    "import numpy as np \n",
    "import pandas as pd \n"
   ]
  },
  {
   "cell_type": "code",
   "execution_count": 2,
   "metadata": {},
   "outputs": [
    {
     "data": {
      "text/plain": [
       "'/Users/omercagatay/Desktop/Thesis/git_repo/SALMON/notebooks/data simulation'"
      ]
     },
     "execution_count": 2,
     "metadata": {},
     "output_type": "execute_result"
    }
   ],
   "source": [
    "notebook_dir = os.getcwd()\n",
    "notebook_dir"
   ]
  },
  {
   "cell_type": "code",
   "execution_count": 3,
   "metadata": {},
   "outputs": [
    {
     "data": {
      "text/plain": [
       "PosixPath('/Users/omercagatay/Desktop/Thesis')"
      ]
     },
     "execution_count": 3,
     "metadata": {},
     "output_type": "execute_result"
    }
   ],
   "source": [
    "Path(notebook_dir).parents[3]"
   ]
  },
  {
   "cell_type": "code",
   "execution_count": 4,
   "metadata": {},
   "outputs": [],
   "source": [
    "os.chdir(Path(notebook_dir).parents[3])"
   ]
  },
  {
   "cell_type": "code",
   "execution_count": null,
   "metadata": {},
   "outputs": [],
   "source": [
    "import sys  \n",
    "sys.path.insert(1,'/Users/omercagatay/Desktop/Thesis/git_repo/SALMON')\n"
   ]
  },
  {
   "cell_type": "markdown",
   "metadata": {},
   "source": [
    "# Rna Velocity Modelling "
   ]
  },
  {
   "cell_type": "markdown",
   "metadata": {},
   "source": [
    "## unspliced mRNA \n",
    "\n",
    " - Consider the first order differential equation $$\\frac{du(t)}{dt} =\\alpha -\\beta u(t).$$\n",
    "With the inital condition $u(0)=u_0$, it has the analytical solution:<br>\n",
    " $$u(t)=u_0 e^{-\\beta t}+\\frac{\\alpha}{\\beta}(1-e^{-\\beta t}),$$\n",
    " where $\\alpha$ is the pre-mRNA transcription parameter, $\\beta $ is the change rate from unspliced to spliced mRNA.\n",
    "\n"
   ]
  },
  {
   "cell_type": "code",
   "execution_count": 5,
   "metadata": {},
   "outputs": [],
   "source": [
    "# function returns the analytical solution value for given tau, u0, alpha, beta for unspliced mRNA.\n",
    "def unspliced(tau, u0, alpha, beta):\n",
    "    \"\"\"TODO.\"\"\"\n",
    "    expu = np.exp(-beta * tau)\n",
    "    return u0 * expu + alpha / beta * (1 - expu)"
   ]
  },
  {
   "cell_type": "markdown",
   "metadata": {},
   "source": [
    "## spliced mRNA\n",
    "\n",
    "Spliced mRNA change over time can be expressed by the differential equation;\n",
    "$$\\frac{ds}{dt}=\\delta u-\\gamma \\mathrm{s}.$$\n",
    "\n",
    "With the initial condition $s(0)=s_0$ the analytical solution is given by: \n",
    "\n",
    "$$s(t)=s_0 e^{-\\gamma t}+\\frac{\\delta \\alpha}{\\beta \\gamma}\\left(1-e^{-\\gamma t}\\right)+\\frac{\\delta}{\\beta} \\frac{\\alpha-\\beta u_0}{\\gamma-\\beta}\\left(e^{-\\gamma t}-e^{-\\beta t}\\right)$$\n"
   ]
  },
  {
   "cell_type": "markdown",
   "metadata": {},
   "source": [
    "- In the simulation $\\gamma$ and $\\delta$ taken the same. So the solution is given by the equation:\n",
    "\n",
    "$$s(t)=s_0 e^{-\\gamma t}+\\frac{\\alpha}{\\gamma}\\left(1-e^{-\\gamma t}\\right)+\\frac{\\alpha-\\beta u_0}{\\gamma-\\beta}\\left(e^{-\\gamma t}-e^{-\\beta t}\\right)$$"
   ]
  },
  {
   "cell_type": "code",
   "execution_count": null,
   "metadata": {},
   "outputs": [],
   "source": [
    "from scvelo.core import invert, SplicingDynamics\n",
    "\n",
    "def spliced(tau, s0, u0, alpha, beta, gamma):\n",
    "    \"\"\"TODO.\"\"\"\n",
    "    c = (alpha - u0 * beta) * invert(gamma - beta)\n",
    "    expu, exps = np.exp(-beta * tau), np.exp(-gamma * tau)\n",
    "    return s0 * exps + alpha / gamma * (1 - exps) + c * (exps - expu)"
   ]
  },
  {
   "cell_type": "markdown",
   "metadata": {},
   "source": [
    "# Vectorize Function "
   ]
  },
  {
   "cell_type": "code",
   "execution_count": 6,
   "metadata": {},
   "outputs": [
    {
     "data": {
      "text/plain": [
       "AnnData object with n_obs × n_vars = 300 × 4\n",
       "    obs: 'true_t'\n",
       "    var: 'true_t_', 'true_alpha', 'true_beta', 'true_gamma', 'true_scaling'\n",
       "    layers: 'unspliced', 'spliced'"
      ]
     },
     "execution_count": 6,
     "metadata": {},
     "output_type": "execute_result"
    }
   ],
   "source": [
    "import warnings\n",
    "def vectorize(t, t_, alpha, beta, gamma=None, alpha_=0, u0=0, s0=0, sorted=False):\n",
    "    \"\"\"\n",
    "    Vectorizes the parameters for mRNA splicing kinetics simulation based on the given time points.\n",
    "\n",
    "    This function computes the vectorized values of the parameters `tau`, `alpha`, `u0`, and `s0`\n",
    "    for a set of time points `t` and a threshold time `t_`.\n",
    "\n",
    "    Parameters\n",
    "    ----------\n",
    "    t : array_like\n",
    "        Array of time points at which to compute the parameters.\n",
    "    t_ : float\n",
    "        Threshold time point which separates two different regimes in the simulation.\n",
    "    alpha : array_like or float\n",
    "        Transcription rate parameter. This can be a scalar or an array of the same length as `t`.\n",
    "    beta : array_like or float\n",
    "        Splicing rate parameter. This can be a scalar or an array of the same length as `t`.\n",
    "    gamma : array_like or float, optional\n",
    "        Degradation rate parameter. Defaults to `beta / 2` if not provided.\n",
    "    alpha_ : float, optional\n",
    "        Secondary transcription rate parameter used after the threshold time `t_`. Defaults to 0.\n",
    "    u0 : float, optional\n",
    "        Initial unspliced mRNA level. Defaults to 0.\n",
    "    s0 : float, optional\n",
    "        Initial spliced mRNA level. Defaults to 0.\n",
    "    sorted : bool, optional\n",
    "        If True, the resulting arrays are sorted by time `t`. Defaults to False.\n",
    "\n",
    "    Returns\n",
    "\n",
    "    tuple of numpy.ndarray\n",
    "        Tuple containing the following elements:\n",
    "        - `tau` : numpy.ndarray\n",
    "            Vectorized time points after applying the threshold `t_`.\n",
    "        - `alpha` : numpy.ndarray\n",
    "            Vectorized transcription rate parameter.\n",
    "        - `u0` : numpy.ndarray\n",
    "            Vectorized initial unspliced mRNA levels.\n",
    "        - `s0` : numpy.ndarray\n",
    "            Vectorized initial spliced mRNA levels.\n",
    "    \"\"\"\n",
    "    with warnings.catch_warnings():\n",
    "        warnings.simplefilter(\"ignore\")\n",
    "        o = np.array(t < t_, dtype=int)\n",
    "    tau = t * o + (t - t_) * (1 - o)\n",
    "\n",
    "    u0_ = unspliced(t_, u0, alpha, beta)\n",
    "    s0_ = spliced(t_, s0, u0, alpha, beta, gamma if gamma is not None else beta / 2)\n",
    "\n",
    "    # vectorize u0, s0 and alpha\n",
    "    u0 = u0 * o + u0_ * (1 - o)\n",
    "    s0 = s0 * o + s0_ * (1 - o)\n",
    "    alpha = alpha * o + alpha_ * (1 - o)\n",
    "\n",
    "    if sorted:\n",
    "        idx = np.argsort(t)\n",
    "        tau, alpha, u0, s0 = tau[idx], alpha[idx], u0[idx], s0[idx]\n",
    "    return tau, alpha, u0, s0"
   ]
  },
  {
   "cell_type": "markdown",
   "metadata": {},
   "source": [
    "# Simulate "
   ]
  },
  {
   "cell_type": "code",
   "execution_count": null,
   "metadata": {},
   "outputs": [],
   "source": [
    "from anndata import AnnData"
   ]
  },
  {
   "cell_type": "code",
   "execution_count": null,
   "metadata": {},
   "outputs": [],
   "source": [
    "def simulation(\n",
    "    n_obs=300,\n",
    "    n_vars=None,\n",
    "    alpha=None,\n",
    "    beta=None,\n",
    "    gamma=None,\n",
    "    alpha_=None,\n",
    "    t_max=None,\n",
    "    noise_model=\"normal\",\n",
    "    noise_level=1,\n",
    "    switches=None,\n",
    "    random_seed=0,\n",
    "):\n",
    "    \"\"\"Simulation of mRNA splicing kinetics.\n",
    "\n",
    "    Simulated mRNA metabolism with transcription, splicing and degradation.\n",
    "    The parameters for each reaction are randomly sampled from a log-normal distribution\n",
    "    and time events follow the Poisson law. The total time spent in a transcriptional\n",
    "    state is varied between two and ten hours.\n",
    "\n",
    "    .. image:: https://user-images.githubusercontent.com/31883718/79432471-16c0a000-7fcc-11ea-8d62-6971bcf4181a.png\n",
    "       :width: 600px\n",
    "\n",
    "    Returns\n",
    "    -------\n",
    "    Returns `adata` object\n",
    "    \"\"\"\n",
    "    np.random.seed(random_seed)\n",
    "\n",
    "    def draw_poisson(n):\n",
    "        from random import seed, uniform  # draw from poisson\n",
    "\n",
    "        seed(random_seed)\n",
    "        t = np.cumsum([-0.1 * np.log(uniform(0, 1)) for _ in range(n - 1)])\n",
    "        return np.insert(t, 0, 0)  # prepend t0=0\n",
    "\n",
    "    def simulate_dynamics(tau, alpha, beta, gamma, u0, s0, noise_model, noise_level):\n",
    "        ut, st = SplicingDynamics(\n",
    "            alpha=alpha, beta=beta, gamma=gamma, initial_state=[u0, s0]\n",
    "        ).get_solution(tau, stacked=False)\n",
    "        if noise_model == \"normal\":  # add noise\n",
    "            ut += np.random.normal(\n",
    "                scale=noise_level * np.percentile(ut, 99) / 10, size=len(ut)\n",
    "            )\n",
    "            st += np.random.normal(\n",
    "                scale=noise_level * np.percentile(st, 99) / 10, size=len(st)\n",
    "            )\n",
    "        ut, st = np.clip(ut, 0, None), np.clip(st, 0, None)\n",
    "        return ut, st\n",
    "\n",
    "    def simulate_gillespie(alpha, beta, gamma):\n",
    "        # update rules:\n",
    "        # transcription (u+1,s), splicing (u-1,s+1), degradation (u,s-1), nothing (u,s)\n",
    "        update_rule = np.array([[1, 0], [-1, 1], [0, -1], [0, 0]])\n",
    "\n",
    "        def update(props):\n",
    "            if np.sum(props) > 0:\n",
    "                props /= np.sum(props)\n",
    "            p_cumsum = props.cumsum()\n",
    "            p = np.random.rand()\n",
    "            i = 0\n",
    "            while p > p_cumsum[i]:\n",
    "                i += 1\n",
    "            return update_rule[i]\n",
    "\n",
    "        u, s = np.zeros(len(alpha)), np.zeros(len(alpha))\n",
    "        for i, alpha_i in enumerate(alpha):\n",
    "            u_, s_ = (u[i - 1], s[i - 1]) if i > 0 else (0, 0)\n",
    "\n",
    "            if (alpha_i == 0) and (u_ == 0) and (s_ == 0):\n",
    "                du, ds = 0, 0\n",
    "            else:\n",
    "                du, ds = update(props=np.array([alpha_i, beta * u_, gamma * s_]))\n",
    "\n",
    "            u[i], s[i] = (u_ + du, s_ + ds)\n",
    "        return u, s\n",
    "\n",
    "    alpha = 5 if alpha is None else alpha\n",
    "    beta = 0.5 if beta is None else beta\n",
    "    gamma = 0.3 if gamma is None else gamma\n",
    "    alpha_ = 0 if alpha_ is None else alpha_\n",
    "\n",
    "    t = draw_poisson(n_obs)\n",
    "    if t_max is not None:\n",
    "        t *= t_max / np.max(t)\n",
    "    t_max = np.max(t)\n",
    "\n",
    "    def cycle(array, n_vars=None):\n",
    "        if isinstance(array, (np.ndarray, list, tuple)):\n",
    "            return (\n",
    "                array if n_vars is None else array * int(np.ceil(n_vars / len(array)))\n",
    "            )\n",
    "        else:\n",
    "            return [array] if n_vars is None else [array] * n_vars\n",
    "\n",
    "    # switching time point obtained as fraction of t_max rounded down\n",
    "    switches = (\n",
    "        cycle([0.4, 0.7, 1, 0.1], n_vars)\n",
    "        if switches is None\n",
    "        else cycle(switches, n_vars)\n",
    "    )\n",
    "    t_ = np.array([np.max(t[t < t_i * t_max]) for t_i in switches])\n",
    "\n",
    "    noise_level = cycle(noise_level, len(switches) if n_vars is None else n_vars)\n",
    "\n",
    "    n_vars = min(len(switches), len(noise_level)) if n_vars is None else n_vars\n",
    "    U = np.zeros(shape=(len(t), n_vars))\n",
    "    S = np.zeros(shape=(len(t), n_vars))\n",
    "\n",
    "    def is_list(x):\n",
    "        return isinstance(x, (tuple, list, np.ndarray))\n",
    "\n",
    "    for i in range(n_vars):\n",
    "        alpha_i = alpha[i] if is_list(alpha) and len(alpha) != n_obs else alpha\n",
    "        beta_i = beta[i] if is_list(beta) and len(beta) != n_obs else beta\n",
    "        gamma_i = gamma[i] if is_list(gamma) and len(gamma) != n_obs else gamma\n",
    "        tau, alpha_vec, u0_vec, s0_vec = vectorize(\n",
    "            t, t_[i], alpha_i, beta_i, gamma_i, alpha_=alpha_, u0=0, s0=0\n",
    "        )\n",
    "\n",
    "        if noise_model == \"gillespie\":\n",
    "            U[:, i], S[:, i] = simulate_gillespie(alpha_vec, beta, gamma)\n",
    "        else:\n",
    "            U[:, i], S[:, i] = simulate_dynamics(\n",
    "                tau,\n",
    "                alpha_vec,\n",
    "                beta_i,\n",
    "                gamma_i,\n",
    "                u0_vec,\n",
    "                s0_vec,\n",
    "                noise_model,\n",
    "                noise_level[i],\n",
    "            )\n",
    "\n",
    "    if is_list(alpha) and len(alpha) == n_obs:\n",
    "        alpha = np.nan\n",
    "    if is_list(beta) and len(beta) == n_obs:\n",
    "        beta = np.nan\n",
    "    if is_list(gamma) and len(gamma) == n_obs:\n",
    "        gamma = np.nan\n",
    "\n",
    "    obs = {\"true_t\": t.round(2)}\n",
    "    var = {\n",
    "        \"true_t_\": t_[:n_vars],\n",
    "        \"true_alpha\": np.ones(n_vars) * alpha,\n",
    "        \"true_beta\": np.ones(n_vars) * beta,\n",
    "        \"true_gamma\": np.ones(n_vars) * gamma,\n",
    "        \"true_scaling\": np.ones(n_vars),\n",
    "    }\n",
    "    layers = {\"unspliced\": U, \"spliced\": S}\n",
    "\n",
    "    return AnnData(S, obs, var, layers=layers)"
   ]
  },
  {
   "cell_type": "markdown",
   "metadata": {},
   "source": [
    "# Helper Functions"
   ]
  },
  {
   "cell_type": "markdown",
   "metadata": {},
   "source": [
    "### draw_poisson(n):\n",
    "\n",
    "- Generates a sequence of times drawn from a Poisson process. It uses the cumulative sum of exponentially distributed inter-arrival times to generate the Poisson times."
   ]
  },
  {
   "cell_type": "code",
   "execution_count": null,
   "metadata": {},
   "outputs": [],
   "source": [
    "from random import seed, uniform \n",
    "def draw_poisson(n):\n",
    "        from random import seed, uniform  # draw from poisson\n",
    "\n",
    "        seed(0)\n",
    "        t = np.cumsum([-0.1 * np.log(uniform(0, 1)) for _ in range(n - 1)])\n",
    "        return np.insert(t, 0, 0)  # prepend t0=0"
   ]
  },
  {
   "cell_type": "markdown",
   "metadata": {},
   "source": [
    "### simulate_dynamics()\n",
    "\n",
    "- Uses the __SplicingDynamics()__ class to compute the solution for unspliced (ut) and spliced (st) mRNA levels over time tau.\n",
    "\n",
    "- Add Noise: If the noise model is \"normal\", it adds Gaussian noise to the unspliced and spliced mRNA levels.\n",
    "\n",
    "- Clip Values: Ensures that the mRNA levels are non-negative by clipping the values at 0.\n",
    "\n",
    "- Returns the noisy, non-negative unspliced and spliced mRNA levels."
   ]
  },
  {
   "cell_type": "code",
   "execution_count": null,
   "metadata": {},
   "outputs": [],
   "source": [
    "def simulate_dynamics(tau, alpha, beta, gamma, u0, s0, noise_model, noise_level):\n",
    "    ut, st = SplicingDynamics(\n",
    "        alpha=alpha, beta=beta, gamma=gamma, initial_state=[u0, s0]\n",
    "    ).get_solution(tau, stacked=False)\n",
    "    if noise_model == \"normal\":  # add noise\n",
    "        ut += np.random.normal(\n",
    "            scale=noise_level * np.percentile(ut, 99) / 10, size=len(ut)\n",
    "        )\n",
    "        st += np.random.normal(\n",
    "            scale=noise_level * np.percentile(st, 99) / 10, size=len(st)\n",
    "        )\n",
    "    ut, st = np.clip(ut, 0, None), np.clip(st, 0, None)\n",
    "    return ut, st"
   ]
  },
  {
   "cell_type": "markdown",
   "metadata": {},
   "source": [
    "- SplicingDynamics() link: https://github.com/theislab/scvelo/blob/main/scvelo/core/_models.py"
   ]
  }
 ],
 "metadata": {
  "kernelspec": {
   "display_name": "scvelo",
   "language": "python",
   "name": "python3"
  },
  "language_info": {
   "codemirror_mode": {
    "name": "ipython",
    "version": 3
   },
   "file_extension": ".py",
   "mimetype": "text/x-python",
   "name": "python",
   "nbconvert_exporter": "python",
   "pygments_lexer": "ipython3",
   "version": "3.12.2"
  }
 },
 "nbformat": 4,
 "nbformat_minor": 2
}
